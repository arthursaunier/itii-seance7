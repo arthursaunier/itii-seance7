{
  "nbformat": 4,
  "nbformat_minor": 0,
  "metadata": {
    "kernelspec": {
      "display_name": "Python 3",
      "language": "python",
      "name": "python3"
    },
    "language_info": {
      "codemirror_mode": {
        "name": "ipython",
        "version": 3
      },
      "file_extension": ".py",
      "mimetype": "text/x-python",
      "name": "python",
      "nbconvert_exporter": "python",
      "pygments_lexer": "ipython3",
      "version": "3.7.6"
    },
    "colab": {
      "name": "Seance7.ipynb",
      "provenance": []
    }
  },
  "cells": [
    {
      "cell_type": "markdown",
      "metadata": {
        "id": "p2lXVuSCQCno"
      },
      "source": [
        "En utilisant numpy:"
      ]
    },
    {
      "cell_type": "markdown",
      "metadata": {
        "id": "8-gYCuf_QCno"
      },
      "source": [
        "Ex 1 :Addition\n",
        "Écrire un programme pour lire les éléments de deux matrices et ajoutez les deux matrices dans la troisième.\n",
        "\n",
        "La somme de deux matrices de taille (m,n), $(A_{ij})$ et $(B_{ij})$ notée $A+B$  est à nouveau une matrice (C_{ij}) de taille (m,n), obtenue en additionnant les éléments correspondants: $c_{ij}=a_{ij}+b_{ij}$\n"
      ]
    },
    {
      "cell_type": "code",
      "metadata": {
        "colab": {
          "base_uri": "https://localhost:8080/"
        },
        "id": "gQRDUR1oQCno",
        "outputId": "c5f83664-8d65-4b7e-bdc4-1dcea64c21e5"
      },
      "source": [
        "import numpy as np\n",
        "\n",
        "A = np.matrix('1 2 3;2 3 4;7 6 25')\n",
        "\n",
        "B = np.matrix('4 5 6;7 8 9; 12 9 4')\n",
        "\n",
        "C = np.add(A,B)\n",
        "\n",
        "\n",
        "print(\"A : \", A)\n",
        "print(\"B : \", B)\n",
        "print(\"A+B=C=\", C)\n",
        "\n"
      ],
      "execution_count": 11,
      "outputs": [
        {
          "output_type": "stream",
          "text": [
            "A :  [[ 1  2  3]\n",
            " [ 2  3  4]\n",
            " [ 7  6 25]]\n",
            "B :  [[ 4  5  6]\n",
            " [ 7  8  9]\n",
            " [12  9  4]]\n",
            "A+B=C= [[ 5  7  9]\n",
            " [ 9 11 13]\n",
            " [19 15 29]]\n"
          ],
          "name": "stdout"
        }
      ]
    },
    {
      "cell_type": "markdown",
      "metadata": {
        "id": "jTo_SMhcQCno"
      },
      "source": [
        "Ex2 :Multiplication\n",
        "Écrire un programme pour lire les éléments de deux matrices, puis multipliez les deux matrices dans la troisième.\n",
        "\n",
        "Deux matrices ne peuvent être multipliées que si le nombre de colonnes de la première matrice est le même que le nombre de lignes de la seconde matrice.\n",
        "\n",
        "Si $ A=(a_{ij})$ est une matrice de taille (m,n), $ B=(b_{ij})$ et est une matrice de taille (n,p), alors leur produit, noté $AB=(c_{ij})$ est une matrice de taille (m,p) définie par :\n",
        "$$\\forall i,j : c_{ij}=\\sum_{k=i}^{n} a_{ik}*b_{kj}$$"
      ]
    },
    {
      "cell_type": "code",
      "metadata": {
        "colab": {
          "base_uri": "https://localhost:8080/"
        },
        "id": "4cXurNx8QCno",
        "outputId": "312b3e9f-1984-4cee-9956-0f7708560c3b"
      },
      "source": [
        "A = np.matrix('1 2 3;2 3 4;7 6 25')\n",
        "\n",
        "B = np.matrix('4 5 6;7 8 9; 12 9 4')\n",
        "\n",
        "C = np.matmul(A,B)\n",
        "\n",
        "\n",
        "print(\"A : \", A)\n",
        "print(\"B : \", B)\n",
        "print(\"A*B=C=\", C)\n"
      ],
      "execution_count": 14,
      "outputs": [
        {
          "output_type": "stream",
          "text": [
            "A :  [[ 1  2  3]\n",
            " [ 2  3  4]\n",
            " [ 7  6 25]]\n",
            "B :  [[ 4  5  6]\n",
            " [ 7  8  9]\n",
            " [12  9  4]]\n",
            "A*B=C= [[ 54  48  36]\n",
            " [ 77  70  55]\n",
            " [370 308 196]]\n"
          ],
          "name": "stdout"
        }
      ]
    },
    {
      "cell_type": "markdown",
      "metadata": {
        "id": "D_8SvXAvQCno"
      },
      "source": [
        "Ex 3: Matrice de Markov\n",
        "\n",
        "Une matrice de Markov est une matrice carrée dont chaque élément est un réel compris entre 0 et 1 et dont la somme des éléments de chaque ligne vaut 1. Cela correspond, en probabilité, à la matrice de transition d'une chaîne de Markov finie.\n",
        "\n",
        "Une matrice est dite bistochastique (ou doublement stochastique) si la somme des éléments de chaque ligne et de chaque colonne vaut 1.\n",
        "\n",
        "1. Ecrire une fonction eststochastique(P) qui permet de vérifier est ce que la matrice P est stochastique ou non\n",
        "2. Ecrire une fonction estbistochastique(P) qui permet de vérifier est ce que la matrice P est bistochastique ou non\n",
        "3. Ecrire une fonction vecteurstable(G, h) qui permet de vérifier est ce que h est un vecteur stable de G ou non\n",
        "\n"
      ]
    },
    {
      "cell_type": "code",
      "metadata": {
        "colab": {
          "base_uri": "https://localhost:8080/"
        },
        "id": "gCnPCnf6QCno",
        "outputId": "937b999f-3a64-49ba-d0e8-1ced5ccd6f9c"
      },
      "source": [
        "A = np.matrix('0.95 0.05;0.03 0.97')\n",
        "h = np.matrix('0.375, 0.625')\n",
        "\n",
        "#Q1\n",
        "def eststochastique(P):\n",
        "  a = len(P)\n",
        "  b = len(P[:,0])\n",
        "\n",
        "  state = True\n",
        "\n",
        "  for i in range(a):\n",
        "    sum = 0\n",
        "    for j in range(b):\n",
        "      sum += P[i,j]\n",
        "    if sum != 1:\n",
        "      state = False\n",
        "      break\n",
        "  return state\n",
        "\n",
        "\n",
        "#Q2\n",
        "def estbistochastique(P): \n",
        "  a = len(P)\n",
        "  b = len(P[:,0])\n",
        "\n",
        "  state = True\n",
        "\n",
        "  if (eststochastique(P)):\n",
        "    for j in range(b):\n",
        "      sum = 0\n",
        "      for i in range(a):\n",
        "        sum += P[i,j]\n",
        "      if sum != 1:\n",
        "        state = False\n",
        "        break\n",
        "  else:\n",
        "    state = false\n",
        "  return state\n",
        "\n",
        "\n",
        "#Q3\n",
        "def vecteurstable(G, h):\n",
        "  a = len(h)\n",
        "\n",
        "  if (eststochastique(G)):\n",
        "    mult = np.matmul(h,G)\n",
        "    for i in range(a):\n",
        "      if np.all(mult[i]) == np.all(h[i]):\n",
        "        state = True\n",
        "      else:\n",
        "        state = False\n",
        "  return state\n",
        "\n",
        "\n",
        "\n",
        "print(eststochastique(A))\n",
        "print(estbistochastique(A))\n",
        "print(vecteurstable(A, h))"
      ],
      "execution_count": 54,
      "outputs": [
        {
          "output_type": "stream",
          "text": [
            "True\n",
            "False\n",
            "True\n"
          ],
          "name": "stdout"
        }
      ]
    },
    {
      "cell_type": "markdown",
      "metadata": {
        "id": "8Tz-ejQWQCno"
      },
      "source": [
        "Ex 4: Transposer\n",
        "\n",
        "Programmer une fonction qui, étant donné une matrice à deux dimensions A, retourne lamatrice B dont la première colonne est la première ligne de A, la seconde la deuxième ligne de A, etc. B s’appelle la transposée de A."
      ]
    },
    {
      "cell_type": "code",
      "metadata": {
        "colab": {
          "base_uri": "https://localhost:8080/"
        },
        "id": "rEXSielaQCno",
        "outputId": "0f7892ad-3148-440b-e472-5618039ea905"
      },
      "source": [
        "A = np.matrix('1 2 3;2 3 4;7 6 25')\n",
        "\n",
        "C = A.transpose()\n",
        "\n",
        "print(A)\n",
        "print(\"transposée de A:\\n\", C)"
      ],
      "execution_count": 49,
      "outputs": [
        {
          "output_type": "stream",
          "text": [
            "[[ 1  2  3]\n",
            " [ 2  3  4]\n",
            " [ 7  6 25]]\n",
            "transposée de A:\n",
            " [[ 1  2  7]\n",
            " [ 2  3  6]\n",
            " [ 3  4 25]]\n"
          ],
          "name": "stdout"
        }
      ]
    },
    {
      "cell_type": "markdown",
      "metadata": {
        "id": "v4ON3XnyQCno"
      },
      "source": [
        "Ex 5: Permutations\n",
        "1. $M$ désignant une matrice quelconque d’entiers à $l_i$ lignes et $co$ colonnes, $n$ un entier quelconque, programmer une fonction qui retourne la matrice $Sortie$ qui empile verticalement les $co+1$ matrices obtenues en adjoignant à $M$ une colonne $A$ à $li$ lignes dont tousles éléments sont égaux à $n$, $A$ étant placée d’abord devant $M$, puis entre la première et deuxième colonne de $M^a$,etc, jusqu’à ce que $A$ devienne sa dernière colonne. La matriceobtenue  aura $co+1$ colonnes et $(n+1)$ $li$ lignes\n",
        "\n",
        "2. Écrire toutes les permutations de(1, ..., n)"
      ]
    }
  ]
}